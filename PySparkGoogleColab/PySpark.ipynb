{
  "nbformat": 4,
  "nbformat_minor": 0,
  "metadata": {
    "colab": {
      "provenance": []
    },
    "kernelspec": {
      "name": "python3",
      "display_name": "Python 3"
    },
    "language_info": {
      "name": "python"
    }
  },
  "cells": [
    {
      "cell_type": "markdown",
      "source": [
        "# Configurando o ambiente"
      ],
      "metadata": {
        "id": "lnDgFlMQNCg0"
      }
    },
    {
      "cell_type": "code",
      "execution_count": 1,
      "metadata": {
        "id": "1e_4P4L9t25m"
      },
      "outputs": [],
      "source": [
        "!apt-get install openjdk-8-jdk-headless -qq > /dev/null"
      ]
    },
    {
      "cell_type": "code",
      "source": [
        "!wget -q https://dlcdn.apache.org/spark/spark-3.4.0/spark-3.4.0-bin-hadoop3.tgz"
      ],
      "metadata": {
        "id": "0DnQVoPMvly2"
      },
      "execution_count": 2,
      "outputs": []
    },
    {
      "cell_type": "code",
      "source": [
        "!tar xf /content/spark-3.4.0-bin-hadoop3.tgz"
      ],
      "metadata": {
        "id": "Yg9G4d-Dwd1U"
      },
      "execution_count": 3,
      "outputs": []
    },
    {
      "cell_type": "code",
      "source": [
        "import os\n",
        "os.environ['JAVA_HOME'] = '/usr/lib/jvm/java-8-openjdk-amd64'\n",
        "os.environ['SPARK_HOME'] = '/content/spark-3.4.0-bin-hadoop3'"
      ],
      "metadata": {
        "id": "bXOMl3S5zeMg"
      },
      "execution_count": 4,
      "outputs": []
    },
    {
      "cell_type": "code",
      "source": [
        "!pip install -q findspark"
      ],
      "metadata": {
        "id": "PnCXiuXzzuqb"
      },
      "execution_count": 5,
      "outputs": []
    },
    {
      "cell_type": "code",
      "source": [
        "import findspark\n",
        "findspark.init('')"
      ],
      "metadata": {
        "id": "8s0hZ3dGz-OV"
      },
      "execution_count": 6,
      "outputs": []
    },
    {
      "cell_type": "code",
      "source": [
        "from google.colab import files\n",
        "arq = files.upload()"
      ],
      "metadata": {
        "colab": {
          "base_uri": "https://localhost:8080/",
          "height": 73
        },
        "id": "ezyfsI2LxT_L",
        "outputId": "dddb280a-c3a4-4265-99aa-6562fee5217c"
      },
      "execution_count": 7,
      "outputs": [
        {
          "output_type": "display_data",
          "data": {
            "text/plain": [
              "<IPython.core.display.HTML object>"
            ],
            "text/html": [
              "\n",
              "     <input type=\"file\" id=\"files-54ce4e60-ea6f-4208-acd1-70706a1a587f\" name=\"files[]\" multiple disabled\n",
              "        style=\"border:none\" />\n",
              "     <output id=\"result-54ce4e60-ea6f-4208-acd1-70706a1a587f\">\n",
              "      Upload widget is only available when the cell has been executed in the\n",
              "      current browser session. Please rerun this cell to enable.\n",
              "      </output>\n",
              "      <script>// Copyright 2017 Google LLC\n",
              "//\n",
              "// Licensed under the Apache License, Version 2.0 (the \"License\");\n",
              "// you may not use this file except in compliance with the License.\n",
              "// You may obtain a copy of the License at\n",
              "//\n",
              "//      http://www.apache.org/licenses/LICENSE-2.0\n",
              "//\n",
              "// Unless required by applicable law or agreed to in writing, software\n",
              "// distributed under the License is distributed on an \"AS IS\" BASIS,\n",
              "// WITHOUT WARRANTIES OR CONDITIONS OF ANY KIND, either express or implied.\n",
              "// See the License for the specific language governing permissions and\n",
              "// limitations under the License.\n",
              "\n",
              "/**\n",
              " * @fileoverview Helpers for google.colab Python module.\n",
              " */\n",
              "(function(scope) {\n",
              "function span(text, styleAttributes = {}) {\n",
              "  const element = document.createElement('span');\n",
              "  element.textContent = text;\n",
              "  for (const key of Object.keys(styleAttributes)) {\n",
              "    element.style[key] = styleAttributes[key];\n",
              "  }\n",
              "  return element;\n",
              "}\n",
              "\n",
              "// Max number of bytes which will be uploaded at a time.\n",
              "const MAX_PAYLOAD_SIZE = 100 * 1024;\n",
              "\n",
              "function _uploadFiles(inputId, outputId) {\n",
              "  const steps = uploadFilesStep(inputId, outputId);\n",
              "  const outputElement = document.getElementById(outputId);\n",
              "  // Cache steps on the outputElement to make it available for the next call\n",
              "  // to uploadFilesContinue from Python.\n",
              "  outputElement.steps = steps;\n",
              "\n",
              "  return _uploadFilesContinue(outputId);\n",
              "}\n",
              "\n",
              "// This is roughly an async generator (not supported in the browser yet),\n",
              "// where there are multiple asynchronous steps and the Python side is going\n",
              "// to poll for completion of each step.\n",
              "// This uses a Promise to block the python side on completion of each step,\n",
              "// then passes the result of the previous step as the input to the next step.\n",
              "function _uploadFilesContinue(outputId) {\n",
              "  const outputElement = document.getElementById(outputId);\n",
              "  const steps = outputElement.steps;\n",
              "\n",
              "  const next = steps.next(outputElement.lastPromiseValue);\n",
              "  return Promise.resolve(next.value.promise).then((value) => {\n",
              "    // Cache the last promise value to make it available to the next\n",
              "    // step of the generator.\n",
              "    outputElement.lastPromiseValue = value;\n",
              "    return next.value.response;\n",
              "  });\n",
              "}\n",
              "\n",
              "/**\n",
              " * Generator function which is called between each async step of the upload\n",
              " * process.\n",
              " * @param {string} inputId Element ID of the input file picker element.\n",
              " * @param {string} outputId Element ID of the output display.\n",
              " * @return {!Iterable<!Object>} Iterable of next steps.\n",
              " */\n",
              "function* uploadFilesStep(inputId, outputId) {\n",
              "  const inputElement = document.getElementById(inputId);\n",
              "  inputElement.disabled = false;\n",
              "\n",
              "  const outputElement = document.getElementById(outputId);\n",
              "  outputElement.innerHTML = '';\n",
              "\n",
              "  const pickedPromise = new Promise((resolve) => {\n",
              "    inputElement.addEventListener('change', (e) => {\n",
              "      resolve(e.target.files);\n",
              "    });\n",
              "  });\n",
              "\n",
              "  const cancel = document.createElement('button');\n",
              "  inputElement.parentElement.appendChild(cancel);\n",
              "  cancel.textContent = 'Cancel upload';\n",
              "  const cancelPromise = new Promise((resolve) => {\n",
              "    cancel.onclick = () => {\n",
              "      resolve(null);\n",
              "    };\n",
              "  });\n",
              "\n",
              "  // Wait for the user to pick the files.\n",
              "  const files = yield {\n",
              "    promise: Promise.race([pickedPromise, cancelPromise]),\n",
              "    response: {\n",
              "      action: 'starting',\n",
              "    }\n",
              "  };\n",
              "\n",
              "  cancel.remove();\n",
              "\n",
              "  // Disable the input element since further picks are not allowed.\n",
              "  inputElement.disabled = true;\n",
              "\n",
              "  if (!files) {\n",
              "    return {\n",
              "      response: {\n",
              "        action: 'complete',\n",
              "      }\n",
              "    };\n",
              "  }\n",
              "\n",
              "  for (const file of files) {\n",
              "    const li = document.createElement('li');\n",
              "    li.append(span(file.name, {fontWeight: 'bold'}));\n",
              "    li.append(span(\n",
              "        `(${file.type || 'n/a'}) - ${file.size} bytes, ` +\n",
              "        `last modified: ${\n",
              "            file.lastModifiedDate ? file.lastModifiedDate.toLocaleDateString() :\n",
              "                                    'n/a'} - `));\n",
              "    const percent = span('0% done');\n",
              "    li.appendChild(percent);\n",
              "\n",
              "    outputElement.appendChild(li);\n",
              "\n",
              "    const fileDataPromise = new Promise((resolve) => {\n",
              "      const reader = new FileReader();\n",
              "      reader.onload = (e) => {\n",
              "        resolve(e.target.result);\n",
              "      };\n",
              "      reader.readAsArrayBuffer(file);\n",
              "    });\n",
              "    // Wait for the data to be ready.\n",
              "    let fileData = yield {\n",
              "      promise: fileDataPromise,\n",
              "      response: {\n",
              "        action: 'continue',\n",
              "      }\n",
              "    };\n",
              "\n",
              "    // Use a chunked sending to avoid message size limits. See b/62115660.\n",
              "    let position = 0;\n",
              "    do {\n",
              "      const length = Math.min(fileData.byteLength - position, MAX_PAYLOAD_SIZE);\n",
              "      const chunk = new Uint8Array(fileData, position, length);\n",
              "      position += length;\n",
              "\n",
              "      const base64 = btoa(String.fromCharCode.apply(null, chunk));\n",
              "      yield {\n",
              "        response: {\n",
              "          action: 'append',\n",
              "          file: file.name,\n",
              "          data: base64,\n",
              "        },\n",
              "      };\n",
              "\n",
              "      let percentDone = fileData.byteLength === 0 ?\n",
              "          100 :\n",
              "          Math.round((position / fileData.byteLength) * 100);\n",
              "      percent.textContent = `${percentDone}% done`;\n",
              "\n",
              "    } while (position < fileData.byteLength);\n",
              "  }\n",
              "\n",
              "  // All done.\n",
              "  yield {\n",
              "    response: {\n",
              "      action: 'complete',\n",
              "    }\n",
              "  };\n",
              "}\n",
              "\n",
              "scope.google = scope.google || {};\n",
              "scope.google.colab = scope.google.colab || {};\n",
              "scope.google.colab._files = {\n",
              "  _uploadFiles,\n",
              "  _uploadFilesContinue,\n",
              "};\n",
              "})(self);\n",
              "</script> "
            ]
          },
          "metadata": {}
        },
        {
          "output_type": "stream",
          "name": "stdout",
          "text": [
            "Saving movies_dataset.csv to movies_dataset.csv\n"
          ]
        }
      ]
    },
    {
      "cell_type": "code",
      "source": [
        "from pyspark.sql import SparkSession\n",
        "spark = SparkSession.builder\\\n",
        "        .master('local')\\\n",
        "        .appName('sparkmovies')\\\n",
        "        .getOrCreate()"
      ],
      "metadata": {
        "id": "IzGR1s7ox8vU"
      },
      "execution_count": 8,
      "outputs": []
    },
    {
      "cell_type": "code",
      "source": [
        "# o caracter § é usado como delimitador pois o dataset possui atributos com valores que podem\n",
        "# apresentar caracteres que são comumente usados como delimitadores\n",
        "movies = spark.read.option('delimiter', '§').csv('movies_dataset.csv', header=True, inferSchema=True)"
      ],
      "metadata": {
        "id": "dXz6kA6czTM6"
      },
      "execution_count": 9,
      "outputs": []
    },
    {
      "cell_type": "markdown",
      "source": [
        "# Explorando os dados"
      ],
      "metadata": {
        "id": "ThohFG7XNMgJ"
      }
    },
    {
      "cell_type": "code",
      "source": [
        "movies.show(10)"
      ],
      "metadata": {
        "colab": {
          "base_uri": "https://localhost:8080/"
        },
        "id": "d60iRFnSzh8j",
        "outputId": "4a1f42ed-fe4d-4a25-d6c1-4619e91e96c8"
      },
      "execution_count": 10,
      "outputs": [
        {
          "output_type": "stream",
          "name": "stdout",
          "text": [
            "+-----+---------+--------------------+--------------------+------+--------------------+-----------------+--------------------+--------------------+------------------+--------------------+--------------------+------------+----------+-------+--------------------+--------+--------------------+--------------------+------------+----------+--------------------+--------------------+-----------------+\n",
            "|index|   budget|              genres|            homepage|    id|            keywords|original_language|      original_title|            overview|        popularity|production_companies|production_countries|release_date|   revenue|runtime|    spoken_languages|  status|             tagline|               title|vote_average|vote_count|                cast|                crew|         director|\n",
            "+-----+---------+--------------------+--------------------+------+--------------------+-----------------+--------------------+--------------------+------------------+--------------------+--------------------+------------+----------+-------+--------------------+--------+--------------------+--------------------+------------+----------+--------------------+--------------------+-----------------+\n",
            "|    0|237000000|Action Adventure ...|http://www.avatar...| 19995|culture clash fut...|               en|              Avatar|In the 22nd centu...|        150.437577|\"[{\"\"name\"\": \"\"In...|\"[{\"\"iso_3166_1\"\"...|  2009-12-10|2787965087|  162.0|\"[{\"\"iso_639_1\"\":...|Released|Enter the World o...|              Avatar|         7.2|     11800|Sam Worthington Z...|\"[{'name': 'Steph...|    James Cameron|\n",
            "|    1|300000000|Adventure Fantasy...|http://disney.go....|   285|ocean drug abuse ...|               en|Pirates of the Ca...|Captain Barbossa,...|        139.082615|\"[{\"\"name\"\": \"\"Wa...|\"[{\"\"iso_3166_1\"\"...|  2007-05-19| 961000000|  169.0|\"[{\"\"iso_639_1\"\":...|Released|At the end of the...|Pirates of the Ca...|         6.9|      4500|Johnny Depp Orlan...|[{'name': 'Darius...|   Gore Verbinski|\n",
            "|    2|245000000|Action Adventure ...|http://www.sonypi...|206647|spy based on nove...|               en|             Spectre|A cryptic message...|107.37678799999999|\"[{\"\"name\"\": \"\"Co...|\"[{\"\"iso_3166_1\"\"...|  2015-10-26| 880674609|  148.0|\"[{\"\"iso_639_1\"\":...|Released|A Plan No One Esc...|             Spectre|         6.3|      4466|Daniel Craig Chri...|\"[{'name': 'Thoma...|       Sam Mendes|\n",
            "|    3|250000000|Action Crime Dram...|http://www.thedar...| 49026|dc comics crime f...|               en|The Dark Knight R...|Following the dea...|         112.31295|\"[{\"\"name\"\": \"\"Le...|\"[{\"\"iso_3166_1\"\"...|  2012-07-16|1084939099|  165.0|\"[{\"\"iso_639_1\"\":...|Released|     The Legend Ends|The Dark Knight R...|         7.6|      9106|Christian Bale Mi...|\"[{'name': 'Hans ...|Christopher Nolan|\n",
            "|    4|260000000|Action Adventure ...|http://movies.dis...| 49529|based on novel ma...|               en|         John Carter|John Carter is a ...|         43.926995|\"[{\"\"name\"\": \"\"Wa...|\"[{\"\"iso_3166_1\"\"...|  2012-03-07| 284139100|  132.0|\"[{\"\"iso_639_1\"\":...|Released|Lost in our world...|         John Carter|         6.1|      2124|Taylor Kitsch Lyn...|[{'name': 'Andrew...|   Andrew Stanton|\n",
            "|    5|258000000|Fantasy Action Ad...|http://www.sonypi...|   559|dual identity amn...|               en|        Spider-Man 3|The seemingly inv...|115.69981399999999|\"[{\"\"name\"\": \"\"Co...|\"[{\"\"iso_3166_1\"\"...|  2007-05-01| 890871626|  139.0|\"[{\"\"iso_639_1\"\":...|Released|  The battle within.|        Spider-Man 3|         5.9|      3576|Tobey Maguire Kir...|[{'name': 'Franci...|        Sam Raimi|\n",
            "|    6|260000000|    Animation Family|http://disney.go....| 38757|hostage magic hor...|               en|             Tangled|When the kingdom'...|         48.681969|\"[{\"\"name\"\": \"\"Wa...|\"[{\"\"iso_3166_1\"\"...|  2010-11-24| 591794936|  100.0|\"[{\"\"iso_639_1\"\":...|Released|They're taking ad...|             Tangled|         7.4|      3330|Zachary Levi Mand...|[{'name': 'John L...|     Byron Howard|\n",
            "|    7|280000000|Action Adventure ...|http://marvel.com...| 99861|marvel comic sequ...|               en|Avengers: Age of ...|When Tony Stark t...|134.27922900000002|\"[{\"\"name\"\": \"\"Ma...|\"[{\"\"iso_3166_1\"\"...|  2015-04-22|1405403694|  141.0|\"[{\"\"iso_639_1\"\":...|Released| A New Age Has Come.|Avengers: Age of ...|         7.3|      6767|Robert Downey Jr....|\"[{'name': 'Danny...|      Joss Whedon|\n",
            "|    8|250000000|Adventure Fantasy...|http://harrypotte...|   767|witch magic broom...|               en|Harry Potter and ...|As Harry begins h...|         98.885637|\"[{\"\"name\"\": \"\"Wa...|\"[{\"\"iso_3166_1\"\"...|  2009-07-07| 933959197|  153.0|\"[{\"\"iso_639_1\"\":...|Released|Dark Secrets Reve...|Harry Potter and ...|         7.4|      5293|Daniel Radcliffe ...|\"[{'name': 'Bruno...|      David Yates|\n",
            "|    9|250000000|Action Adventure ...|http://www.batman...|209112|dc comics vigilan...|               en|Batman v Superman...|Fearing the actio...|        155.790452|\"[{\"\"name\"\": \"\"DC...|\"[{\"\"iso_3166_1\"\"...|  2016-03-23| 873260194|  151.0|\"[{\"\"iso_639_1\"\":...|Released|  Justice or revenge|Batman v Superman...|         5.7|      7004|Ben Affleck Henry...|\"[{'name': 'Hans ...|      Zack Snyder|\n",
            "+-----+---------+--------------------+--------------------+------+--------------------+-----------------+--------------------+--------------------+------------------+--------------------+--------------------+------------+----------+-------+--------------------+--------+--------------------+--------------------+------------+----------+--------------------+--------------------+-----------------+\n",
            "only showing top 10 rows\n",
            "\n"
          ]
        }
      ]
    },
    {
      "cell_type": "code",
      "source": [
        "movies.printSchema()"
      ],
      "metadata": {
        "colab": {
          "base_uri": "https://localhost:8080/"
        },
        "id": "xCN1uMAEz3Fr",
        "outputId": "31b71dd9-9d33-4f9b-9974-f4e7554b89c7"
      },
      "execution_count": 11,
      "outputs": [
        {
          "output_type": "stream",
          "name": "stdout",
          "text": [
            "root\n",
            " |-- index: string (nullable = true)\n",
            " |-- budget: string (nullable = true)\n",
            " |-- genres: string (nullable = true)\n",
            " |-- homepage: string (nullable = true)\n",
            " |-- id: string (nullable = true)\n",
            " |-- keywords: string (nullable = true)\n",
            " |-- original_language: string (nullable = true)\n",
            " |-- original_title: string (nullable = true)\n",
            " |-- overview: string (nullable = true)\n",
            " |-- popularity: string (nullable = true)\n",
            " |-- production_companies: string (nullable = true)\n",
            " |-- production_countries: string (nullable = true)\n",
            " |-- release_date: string (nullable = true)\n",
            " |-- revenue: string (nullable = true)\n",
            " |-- runtime: string (nullable = true)\n",
            " |-- spoken_languages: string (nullable = true)\n",
            " |-- status: string (nullable = true)\n",
            " |-- tagline: string (nullable = true)\n",
            " |-- title: string (nullable = true)\n",
            " |-- vote_average: string (nullable = true)\n",
            " |-- vote_count: string (nullable = true)\n",
            " |-- cast: string (nullable = true)\n",
            " |-- crew: string (nullable = true)\n",
            " |-- director: string (nullable = true)\n",
            "\n"
          ]
        }
      ]
    },
    {
      "cell_type": "code",
      "source": [
        "from pyspark.sql.functions import col\n",
        "from pyspark.sql.types import DateType, DoubleType, IntegerType"
      ],
      "metadata": {
        "id": "lTlQSASb-lac"
      },
      "execution_count": 12,
      "outputs": []
    },
    {
      "cell_type": "code",
      "source": [
        "# Conversão de tipos de alguns atributos (inicialmete todos são string)\n",
        "movies = movies.withColumn('budget', col('budget').cast(IntegerType()))\\\n",
        "      .withColumn('popularity', col('popularity').cast(DoubleType()))\\\n",
        "      .withColumn('release_date', col('release_date').cast(DateType()))\\\n",
        "      .withColumn('revenue', col('revenue').cast(DoubleType()))\\\n",
        "      .withColumn('runtime', col('runtime').cast(DoubleType()))\\\n",
        "      .withColumn('vote_average', col('vote_average').cast(DoubleType()))\\\n",
        "      .withColumn('vote_count', col('vote_count').cast(IntegerType()))"
      ],
      "metadata": {
        "id": "whv_kpH4_Fyt"
      },
      "execution_count": 13,
      "outputs": []
    },
    {
      "cell_type": "code",
      "source": [
        "movies.printSchema()"
      ],
      "metadata": {
        "colab": {
          "base_uri": "https://localhost:8080/"
        },
        "id": "77tkCeEvA8PM",
        "outputId": "6f834593-f970-4755-86ec-1b1043a753ab"
      },
      "execution_count": 14,
      "outputs": [
        {
          "output_type": "stream",
          "name": "stdout",
          "text": [
            "root\n",
            " |-- index: string (nullable = true)\n",
            " |-- budget: integer (nullable = true)\n",
            " |-- genres: string (nullable = true)\n",
            " |-- homepage: string (nullable = true)\n",
            " |-- id: string (nullable = true)\n",
            " |-- keywords: string (nullable = true)\n",
            " |-- original_language: string (nullable = true)\n",
            " |-- original_title: string (nullable = true)\n",
            " |-- overview: string (nullable = true)\n",
            " |-- popularity: double (nullable = true)\n",
            " |-- production_companies: string (nullable = true)\n",
            " |-- production_countries: string (nullable = true)\n",
            " |-- release_date: date (nullable = true)\n",
            " |-- revenue: double (nullable = true)\n",
            " |-- runtime: double (nullable = true)\n",
            " |-- spoken_languages: string (nullable = true)\n",
            " |-- status: string (nullable = true)\n",
            " |-- tagline: string (nullable = true)\n",
            " |-- title: string (nullable = true)\n",
            " |-- vote_average: double (nullable = true)\n",
            " |-- vote_count: integer (nullable = true)\n",
            " |-- cast: string (nullable = true)\n",
            " |-- crew: string (nullable = true)\n",
            " |-- director: string (nullable = true)\n",
            "\n"
          ]
        }
      ]
    },
    {
      "cell_type": "markdown",
      "source": [
        "# Filtrando dados"
      ],
      "metadata": {
        "id": "4IqsyhS7Lzp4"
      }
    },
    {
      "cell_type": "code",
      "source": [
        "# Atributos menos releantes para situação\n",
        "movies = movies.drop('homepage', 'id', 'overview', 'production_countries', 'spoken_languages',\n",
        "            'status', 'tagline', 'cast', 'crew')"
      ],
      "metadata": {
        "id": "Vwf7SF4XnRsT"
      },
      "execution_count": 15,
      "outputs": []
    },
    {
      "cell_type": "code",
      "source": [
        "from pyspark.sql.functions import current_date"
      ],
      "metadata": {
        "id": "2u2dtEZmMNYe"
      },
      "execution_count": 16,
      "outputs": []
    },
    {
      "cell_type": "code",
      "source": [
        "movies.count()"
      ],
      "metadata": {
        "colab": {
          "base_uri": "https://localhost:8080/"
        },
        "id": "qqYkZLGGtTf8",
        "outputId": "d964cc77-4662-4004-9172-1a5896e9ce58"
      },
      "execution_count": 17,
      "outputs": [
        {
          "output_type": "execute_result",
          "data": {
            "text/plain": [
              "4814"
            ]
          },
          "metadata": {},
          "execution_count": 17
        }
      ]
    },
    {
      "cell_type": "code",
      "source": [
        "# Filmes que possuem uma nota média superior a 10 ou uma data de lançamento superior a data atual\n",
        "movies.filter((movies.vote_average > 10) | (movies.runtime > 300.0) | (movies.release_date > current_date())).count()"
      ],
      "metadata": {
        "colab": {
          "base_uri": "https://localhost:8080/"
        },
        "id": "4yXj4_5fIYWe",
        "outputId": "b6bed072-03c6-4e09-9ddd-8317be447c04"
      },
      "execution_count": 18,
      "outputs": [
        {
          "output_type": "execute_result",
          "data": {
            "text/plain": [
              "195"
            ]
          },
          "metadata": {},
          "execution_count": 18
        }
      ]
    },
    {
      "cell_type": "code",
      "source": [
        "# Removendo linhas com valores nulos\n",
        "movies = movies.dropna()"
      ],
      "metadata": {
        "id": "PKQZJwV6On1F"
      },
      "execution_count": 19,
      "outputs": []
    },
    {
      "cell_type": "code",
      "source": [
        "movies = movies.filter((movies.vote_average <= 10) & (movies.runtime <= 300.0) & (movies.release_date <= current_date()))"
      ],
      "metadata": {
        "id": "g3AnJ5UBPXgU"
      },
      "execution_count": 20,
      "outputs": []
    },
    {
      "cell_type": "code",
      "source": [
        "movies.count()"
      ],
      "metadata": {
        "colab": {
          "base_uri": "https://localhost:8080/"
        },
        "id": "Ul2_9zWetfKo",
        "outputId": "27a27280-1919-4d79-d52f-c06adc019e19"
      },
      "execution_count": 21,
      "outputs": [
        {
          "output_type": "execute_result",
          "data": {
            "text/plain": [
              "4071"
            ]
          },
          "metadata": {},
          "execution_count": 21
        }
      ]
    },
    {
      "cell_type": "markdown",
      "source": [
        "# Convertendo atributo production_companies do tipo string para uma lista"
      ],
      "metadata": {
        "id": "UYZg7DdeQMXY"
      }
    },
    {
      "cell_type": "code",
      "source": [
        "companies = movies.select('production_companies')\n",
        "companies = companies.rdd.map(lambda x: (x[0][1:-1],)).toDF(['production_companies'])"
      ],
      "metadata": {
        "id": "BwPfcVkZQFwo"
      },
      "execution_count": 22,
      "outputs": []
    },
    {
      "cell_type": "code",
      "source": [
        "from pyspark.sql.functions import udf\n",
        "from pyspark.sql.types import ArrayType, StringType\n",
        "import json"
      ],
      "metadata": {
        "id": "DM3BSnxlQGZf"
      },
      "execution_count": 23,
      "outputs": []
    },
    {
      "cell_type": "code",
      "source": [
        "# Função que converte cada elemento string do atributo production_companies em uma lista de strings com os nomes das produtoras\n",
        "def convert_str_to_dict(dict_string):\n",
        "  item_str = dict_string.replace('\"\"', '\"')\n",
        "  item_str = item_str.replace('},', '}§')\n",
        "  item_str = item_str[1:-1]\n",
        "  item_list = item_str.split('§')\n",
        "  col_dic = []\n",
        "  for il in item_list:\n",
        "    if '\" \"' in il:\n",
        "      il = il.replace('\" \"', '\", \"')\n",
        "    il = json.loads(il)\n",
        "    col_dic.append(il['name'])\n",
        "  return col_dic"
      ],
      "metadata": {
        "id": "pHwHGKQRQG-f"
      },
      "execution_count": 24,
      "outputs": []
    },
    {
      "cell_type": "code",
      "source": [
        "udf_convert = udf(convert_str_to_dict, ArrayType(StringType()))"
      ],
      "metadata": {
        "id": "hROak-olQHW4"
      },
      "execution_count": 25,
      "outputs": []
    },
    {
      "cell_type": "code",
      "source": [
        "companies = companies.withColumn('production_companies_names', udf_convert('production_companies'))\n",
        "companies = companies.drop('production_companies')"
      ],
      "metadata": {
        "id": "XjGJWNs7Qbn0"
      },
      "execution_count": 26,
      "outputs": []
    },
    {
      "cell_type": "code",
      "source": [
        "from pyspark.sql.functions import monotonically_increasing_id, row_number\n",
        "from pyspark.sql.window import Window"
      ],
      "metadata": {
        "id": "TWPIyzleQb7e"
      },
      "execution_count": 27,
      "outputs": []
    },
    {
      "cell_type": "code",
      "source": [
        "companies = companies.withColumn('index', row_number().over(Window.orderBy(monotonically_increasing_id())))\n",
        "movies = movies.join(companies, on = ['index'])\n",
        "movies.show(5, truncate=False)"
      ],
      "metadata": {
        "id": "-56o1Kl8Qqty",
        "colab": {
          "base_uri": "https://localhost:8080/"
        },
        "outputId": "ce9558b1-69c7-48a3-86de-3ec0c80130ae"
      },
      "execution_count": 28,
      "outputs": [
        {
          "output_type": "stream",
          "name": "stdout",
          "text": [
            "+-----+---------+--------------------------------+----------------------------------------------------------------------------+-----------------+----------------------------------------+------------------+-------------------------------------------------------------------------------------------------------------------------------------------------------------------------------------+------------+-------------+-------+----------------------------------------+------------+----------+-----------------+---------------------------------------------------------------------------------------------------------------+\n",
            "|index|budget   |genres                          |keywords                                                                    |original_language|original_title                          |popularity        |production_companies                                                                                                                                                                 |release_date|revenue      |runtime|title                                   |vote_average|vote_count|director         |production_companies_names                                                                                     |\n",
            "+-----+---------+--------------------------------+----------------------------------------------------------------------------+-----------------+----------------------------------------+------------------+-------------------------------------------------------------------------------------------------------------------------------------------------------------------------------------+------------+-------------+-------+----------------------------------------+------------+----------+-----------------+---------------------------------------------------------------------------------------------------------------+\n",
            "|1    |300000000|Adventure Fantasy Action        |ocean drug abuse exotic island east india trading company love of one's life|en               |Pirates of the Caribbean: At World's End|139.082615        |\"[{\"\"name\"\": \"\"Walt Disney Pictures\"\", \"\"id\"\": 2}, {\"\"name\"\": \"\"Jerry Bruckheimer Films\"\", \"\"id\"\": 130}, {\"\"name\"\": \"\"Second Mate Productions\"\" \"\"id\"\": 19936}]\"                     |2007-05-19  |9.61E8       |169.0  |Pirates of the Caribbean: At World's End|6.9         |4500      |Gore Verbinski   |[Ingenious Film Partners, Twentieth Century Fox Film Corporation, Dune Entertainment, Lightstorm Entertainment]|\n",
            "|2    |245000000|Action Adventure Crime          |spy based on novel secret agent sequel mi6                                  |en               |Spectre                                 |107.37678799999999|\"[{\"\"name\"\": \"\"Columbia Pictures\"\", \"\"id\"\": 5}, {\"\"name\"\": \"\"Danjaq\"\", \"\"id\"\": 10761}, {\"\"name\"\": \"\"B24\"\" \"\"id\"\": 69434}]\"                                                           |2015-10-26  |8.80674609E8 |148.0  |Spectre                                 |6.3         |4466      |Sam Mendes       |[Walt Disney Pictures, Jerry Bruckheimer Films, Second Mate Productions]                                       |\n",
            "|3    |250000000|Action Crime Drama Thriller     |dc comics crime fighter terrorist secret identity burglar                   |en               |The Dark Knight Rises                   |112.31295         |\"[{\"\"name\"\": \"\"Legendary Pictures\"\", \"\"id\"\": 923}, {\"\"name\"\": \"\"Warner Bros.\"\", \"\"id\"\": 6194}, {\"\"name\"\": \"\"DC Entertainment\"\", \"\"id\"\": 9993}, {\"\"name\"\": \"\"Syncopy\"\" \"\"id\"\": 9996}]\"|2012-07-16  |1.084939099E9|165.0  |The Dark Knight Rises                   |7.6         |9106      |Christopher Nolan|[Columbia Pictures, Danjaq, B24]                                                                               |\n",
            "|4    |260000000|Action Adventure Science Fiction|based on novel mars medallion space travel princess                         |en               |John Carter                             |43.926995         |\"[{\"\"name\"\": \"\"Walt Disney Pictures\"\" \"\"id\"\": 2}]\"                                                                                                                                   |2012-03-07  |2.841391E8   |132.0  |John Carter                             |6.1         |2124      |Andrew Stanton   |[Legendary Pictures, Warner Bros., DC Entertainment, Syncopy]                                                  |\n",
            "|5    |258000000|Fantasy Action Adventure        |dual identity amnesia sandstorm love of one's life forgiveness              |en               |Spider-Man 3                            |115.69981399999999|\"[{\"\"name\"\": \"\"Columbia Pictures\"\", \"\"id\"\": 5}, {\"\"name\"\": \"\"Laura Ziskin Productions\"\", \"\"id\"\": 326}, {\"\"name\"\": \"\"Marvel Enterprises\"\" \"\"id\"\": 19551}]\"                            |2007-05-01  |8.90871626E8 |139.0  |Spider-Man 3                            |5.9         |3576      |Sam Raimi        |[Walt Disney Pictures]                                                                                         |\n",
            "+-----+---------+--------------------------------+----------------------------------------------------------------------------+-----------------+----------------------------------------+------------------+-------------------------------------------------------------------------------------------------------------------------------------------------------------------------------------+------------+-------------+-------+----------------------------------------+------------+----------+-----------------+---------------------------------------------------------------------------------------------------------------+\n",
            "only showing top 5 rows\n",
            "\n"
          ]
        }
      ]
    },
    {
      "cell_type": "markdown",
      "source": [
        "### Range de valores dos principais atributos numéricos"
      ],
      "metadata": {
        "id": "LcZQOb6mLa13"
      }
    },
    {
      "cell_type": "code",
      "source": [
        "from pyspark.sql.functions import min, max"
      ],
      "metadata": {
        "id": "Q2sHogx6QMoP"
      },
      "execution_count": 29,
      "outputs": []
    },
    {
      "cell_type": "code",
      "source": [
        "movies.select(min(movies.budget), max(movies.budget)).show()\n",
        "movies.select(min(movies.release_date), max(movies.release_date)).show()\n",
        "movies.select(min(movies.revenue), max(movies.revenue)).show()\n",
        "movies.select(min(movies.runtime), max(movies.runtime)).show()\n",
        "movies.select(min(movies.vote_average), max(movies.vote_average)).show()\n",
        "movies.select(min(movies.vote_count), max(movies.vote_count)).show()"
      ],
      "metadata": {
        "colab": {
          "base_uri": "https://localhost:8080/"
        },
        "id": "jiRAuoMoQKeF",
        "outputId": "ec1ed47a-c947-4b0b-ff8b-34622c15e8d6"
      },
      "execution_count": 30,
      "outputs": [
        {
          "output_type": "stream",
          "name": "stdout",
          "text": [
            "+-----------+-----------+\n",
            "|min(budget)|max(budget)|\n",
            "+-----------+-----------+\n",
            "|          0|  380000000|\n",
            "+-----------+-----------+\n",
            "\n",
            "+-----------------+-----------------+\n",
            "|min(release_date)|max(release_date)|\n",
            "+-----------------+-----------------+\n",
            "|       1927-01-10|       2016-09-16|\n",
            "+-----------------+-----------------+\n",
            "\n",
            "+------------+-------------+\n",
            "|min(revenue)| max(revenue)|\n",
            "+------------+-------------+\n",
            "|         0.0|1.845034188E9|\n",
            "+------------+-------------+\n",
            "\n",
            "+------------+------------+\n",
            "|min(runtime)|max(runtime)|\n",
            "+------------+------------+\n",
            "|        41.0|       254.0|\n",
            "+------------+------------+\n",
            "\n",
            "+-----------------+-----------------+\n",
            "|min(vote_average)|max(vote_average)|\n",
            "+-----------------+-----------------+\n",
            "|              0.0|              8.5|\n",
            "+-----------------+-----------------+\n",
            "\n",
            "+---------------+---------------+\n",
            "|min(vote_count)|max(vote_count)|\n",
            "+---------------+---------------+\n",
            "|              0|          13752|\n",
            "+---------------+---------------+\n",
            "\n"
          ]
        }
      ]
    },
    {
      "cell_type": "markdown",
      "source": [
        "# Ranqueando alguns filmes"
      ],
      "metadata": {
        "id": "71JASnniLELo"
      }
    },
    {
      "cell_type": "code",
      "source": [
        "# Filmes que arrecadaram acima de 1 bilhão\n",
        "print(movies.filter(movies.revenue >= 1.0E9).count())\n",
        "movies.filter(movies.revenue >= 1.0E9)\\\n",
        "      .select('budget', 'original_title', 'release_date', 'revenue', 'title', 'vote_average', 'director')\\\n",
        "      .sort(col('revenue').desc())\\\n",
        "      .toPandas()"
      ],
      "metadata": {
        "colab": {
          "base_uri": "https://localhost:8080/",
          "height": 707
        },
        "id": "nnASBUNLQqU0",
        "outputId": "1163a90c-3ae9-4811-fd59-61bb4cefee77"
      },
      "execution_count": 31,
      "outputs": [
        {
          "output_type": "stream",
          "name": "stdout",
          "text": [
            "19\n"
          ]
        },
        {
          "output_type": "execute_result",
          "data": {
            "text/plain": [
              "       budget                                 original_title release_date  \\\n",
              "0   200000000                                        Titanic   1997-11-18   \n",
              "1   220000000                                   The Avengers   2012-04-25   \n",
              "2   150000000                                 Jurassic World   2015-06-09   \n",
              "3   190000000                                      Furious 7   2015-04-01   \n",
              "4   280000000                        Avengers: Age of Ultron   2015-04-22   \n",
              "5   150000000                                         Frozen   2013-11-27   \n",
              "6   200000000                                     Iron Man 3   2013-04-18   \n",
              "7    74000000                                        Minions   2015-06-17   \n",
              "8   250000000                     Captain America: Civil War   2016-04-27   \n",
              "9   195000000                 Transformers: Dark of the Moon   2011-06-28   \n",
              "10   94000000  The Lord of the Rings: The Return of the King   2003-12-01   \n",
              "11  200000000                                        Skyfall   2012-10-25   \n",
              "12  250000000                          The Dark Knight Rises   2012-07-16   \n",
              "13  200000000                                    Toy Story 3   2010-06-16   \n",
              "14  200000000     Pirates of the Caribbean: Dead Man's Chest   2006-06-20   \n",
              "15  380000000    Pirates of the Caribbean: On Stranger Tides   2011-05-14   \n",
              "16  200000000                            Alice in Wonderland   2010-03-03   \n",
              "17  250000000              The Hobbit: An Unexpected Journey   2012-11-26   \n",
              "18  185000000                                The Dark Knight   2008-07-16   \n",
              "\n",
              "         revenue                                          title  vote_average  \\\n",
              "0   1.845034e+09                                        Titanic           7.5   \n",
              "1   1.519558e+09                                   The Avengers           7.4   \n",
              "2   1.513529e+09                                 Jurassic World           6.5   \n",
              "3   1.506249e+09                                      Furious 7           7.3   \n",
              "4   1.405404e+09                        Avengers: Age of Ultron           7.3   \n",
              "5   1.274219e+09                                         Frozen           7.3   \n",
              "6   1.215440e+09                                     Iron Man 3           6.8   \n",
              "7   1.156731e+09                                        Minions           6.4   \n",
              "8   1.153304e+09                     Captain America: Civil War           7.1   \n",
              "9   1.123747e+09                 Transformers: Dark of the Moon           6.1   \n",
              "10  1.118889e+09  The Lord of the Rings: The Return of the King           8.1   \n",
              "11  1.108561e+09                                        Skyfall           6.9   \n",
              "12  1.084939e+09                          The Dark Knight Rises           7.6   \n",
              "13  1.066970e+09                                    Toy Story 3           7.6   \n",
              "14  1.065660e+09     Pirates of the Caribbean: Dead Man's Chest           7.0   \n",
              "15  1.045714e+09    Pirates of the Caribbean: On Stranger Tides           6.4   \n",
              "16  1.025491e+09                            Alice in Wonderland           6.4   \n",
              "17  1.021104e+09              The Hobbit: An Unexpected Journey           7.0   \n",
              "18  1.004558e+09                                The Dark Knight           8.2   \n",
              "\n",
              "             director  \n",
              "0       James Cameron  \n",
              "1         Joss Whedon  \n",
              "2     Colin Trevorrow  \n",
              "3           James Wan  \n",
              "4         Joss Whedon  \n",
              "5          Chris Buck  \n",
              "6         Shane Black  \n",
              "7          Kyle Balda  \n",
              "8       Anthony Russo  \n",
              "9         Michael Bay  \n",
              "10      Peter Jackson  \n",
              "11         Sam Mendes  \n",
              "12  Christopher Nolan  \n",
              "13        Lee Unkrich  \n",
              "14     Gore Verbinski  \n",
              "15       Rob Marshall  \n",
              "16         Tim Burton  \n",
              "17      Peter Jackson  \n",
              "18  Christopher Nolan  "
            ],
            "text/html": [
              "\n",
              "  <div id=\"df-7383aaaf-3c56-405d-89f9-6a5db21adb53\">\n",
              "    <div class=\"colab-df-container\">\n",
              "      <div>\n",
              "<style scoped>\n",
              "    .dataframe tbody tr th:only-of-type {\n",
              "        vertical-align: middle;\n",
              "    }\n",
              "\n",
              "    .dataframe tbody tr th {\n",
              "        vertical-align: top;\n",
              "    }\n",
              "\n",
              "    .dataframe thead th {\n",
              "        text-align: right;\n",
              "    }\n",
              "</style>\n",
              "<table border=\"1\" class=\"dataframe\">\n",
              "  <thead>\n",
              "    <tr style=\"text-align: right;\">\n",
              "      <th></th>\n",
              "      <th>budget</th>\n",
              "      <th>original_title</th>\n",
              "      <th>release_date</th>\n",
              "      <th>revenue</th>\n",
              "      <th>title</th>\n",
              "      <th>vote_average</th>\n",
              "      <th>director</th>\n",
              "    </tr>\n",
              "  </thead>\n",
              "  <tbody>\n",
              "    <tr>\n",
              "      <th>0</th>\n",
              "      <td>200000000</td>\n",
              "      <td>Titanic</td>\n",
              "      <td>1997-11-18</td>\n",
              "      <td>1.845034e+09</td>\n",
              "      <td>Titanic</td>\n",
              "      <td>7.5</td>\n",
              "      <td>James Cameron</td>\n",
              "    </tr>\n",
              "    <tr>\n",
              "      <th>1</th>\n",
              "      <td>220000000</td>\n",
              "      <td>The Avengers</td>\n",
              "      <td>2012-04-25</td>\n",
              "      <td>1.519558e+09</td>\n",
              "      <td>The Avengers</td>\n",
              "      <td>7.4</td>\n",
              "      <td>Joss Whedon</td>\n",
              "    </tr>\n",
              "    <tr>\n",
              "      <th>2</th>\n",
              "      <td>150000000</td>\n",
              "      <td>Jurassic World</td>\n",
              "      <td>2015-06-09</td>\n",
              "      <td>1.513529e+09</td>\n",
              "      <td>Jurassic World</td>\n",
              "      <td>6.5</td>\n",
              "      <td>Colin Trevorrow</td>\n",
              "    </tr>\n",
              "    <tr>\n",
              "      <th>3</th>\n",
              "      <td>190000000</td>\n",
              "      <td>Furious 7</td>\n",
              "      <td>2015-04-01</td>\n",
              "      <td>1.506249e+09</td>\n",
              "      <td>Furious 7</td>\n",
              "      <td>7.3</td>\n",
              "      <td>James Wan</td>\n",
              "    </tr>\n",
              "    <tr>\n",
              "      <th>4</th>\n",
              "      <td>280000000</td>\n",
              "      <td>Avengers: Age of Ultron</td>\n",
              "      <td>2015-04-22</td>\n",
              "      <td>1.405404e+09</td>\n",
              "      <td>Avengers: Age of Ultron</td>\n",
              "      <td>7.3</td>\n",
              "      <td>Joss Whedon</td>\n",
              "    </tr>\n",
              "    <tr>\n",
              "      <th>5</th>\n",
              "      <td>150000000</td>\n",
              "      <td>Frozen</td>\n",
              "      <td>2013-11-27</td>\n",
              "      <td>1.274219e+09</td>\n",
              "      <td>Frozen</td>\n",
              "      <td>7.3</td>\n",
              "      <td>Chris Buck</td>\n",
              "    </tr>\n",
              "    <tr>\n",
              "      <th>6</th>\n",
              "      <td>200000000</td>\n",
              "      <td>Iron Man 3</td>\n",
              "      <td>2013-04-18</td>\n",
              "      <td>1.215440e+09</td>\n",
              "      <td>Iron Man 3</td>\n",
              "      <td>6.8</td>\n",
              "      <td>Shane Black</td>\n",
              "    </tr>\n",
              "    <tr>\n",
              "      <th>7</th>\n",
              "      <td>74000000</td>\n",
              "      <td>Minions</td>\n",
              "      <td>2015-06-17</td>\n",
              "      <td>1.156731e+09</td>\n",
              "      <td>Minions</td>\n",
              "      <td>6.4</td>\n",
              "      <td>Kyle Balda</td>\n",
              "    </tr>\n",
              "    <tr>\n",
              "      <th>8</th>\n",
              "      <td>250000000</td>\n",
              "      <td>Captain America: Civil War</td>\n",
              "      <td>2016-04-27</td>\n",
              "      <td>1.153304e+09</td>\n",
              "      <td>Captain America: Civil War</td>\n",
              "      <td>7.1</td>\n",
              "      <td>Anthony Russo</td>\n",
              "    </tr>\n",
              "    <tr>\n",
              "      <th>9</th>\n",
              "      <td>195000000</td>\n",
              "      <td>Transformers: Dark of the Moon</td>\n",
              "      <td>2011-06-28</td>\n",
              "      <td>1.123747e+09</td>\n",
              "      <td>Transformers: Dark of the Moon</td>\n",
              "      <td>6.1</td>\n",
              "      <td>Michael Bay</td>\n",
              "    </tr>\n",
              "    <tr>\n",
              "      <th>10</th>\n",
              "      <td>94000000</td>\n",
              "      <td>The Lord of the Rings: The Return of the King</td>\n",
              "      <td>2003-12-01</td>\n",
              "      <td>1.118889e+09</td>\n",
              "      <td>The Lord of the Rings: The Return of the King</td>\n",
              "      <td>8.1</td>\n",
              "      <td>Peter Jackson</td>\n",
              "    </tr>\n",
              "    <tr>\n",
              "      <th>11</th>\n",
              "      <td>200000000</td>\n",
              "      <td>Skyfall</td>\n",
              "      <td>2012-10-25</td>\n",
              "      <td>1.108561e+09</td>\n",
              "      <td>Skyfall</td>\n",
              "      <td>6.9</td>\n",
              "      <td>Sam Mendes</td>\n",
              "    </tr>\n",
              "    <tr>\n",
              "      <th>12</th>\n",
              "      <td>250000000</td>\n",
              "      <td>The Dark Knight Rises</td>\n",
              "      <td>2012-07-16</td>\n",
              "      <td>1.084939e+09</td>\n",
              "      <td>The Dark Knight Rises</td>\n",
              "      <td>7.6</td>\n",
              "      <td>Christopher Nolan</td>\n",
              "    </tr>\n",
              "    <tr>\n",
              "      <th>13</th>\n",
              "      <td>200000000</td>\n",
              "      <td>Toy Story 3</td>\n",
              "      <td>2010-06-16</td>\n",
              "      <td>1.066970e+09</td>\n",
              "      <td>Toy Story 3</td>\n",
              "      <td>7.6</td>\n",
              "      <td>Lee Unkrich</td>\n",
              "    </tr>\n",
              "    <tr>\n",
              "      <th>14</th>\n",
              "      <td>200000000</td>\n",
              "      <td>Pirates of the Caribbean: Dead Man's Chest</td>\n",
              "      <td>2006-06-20</td>\n",
              "      <td>1.065660e+09</td>\n",
              "      <td>Pirates of the Caribbean: Dead Man's Chest</td>\n",
              "      <td>7.0</td>\n",
              "      <td>Gore Verbinski</td>\n",
              "    </tr>\n",
              "    <tr>\n",
              "      <th>15</th>\n",
              "      <td>380000000</td>\n",
              "      <td>Pirates of the Caribbean: On Stranger Tides</td>\n",
              "      <td>2011-05-14</td>\n",
              "      <td>1.045714e+09</td>\n",
              "      <td>Pirates of the Caribbean: On Stranger Tides</td>\n",
              "      <td>6.4</td>\n",
              "      <td>Rob Marshall</td>\n",
              "    </tr>\n",
              "    <tr>\n",
              "      <th>16</th>\n",
              "      <td>200000000</td>\n",
              "      <td>Alice in Wonderland</td>\n",
              "      <td>2010-03-03</td>\n",
              "      <td>1.025491e+09</td>\n",
              "      <td>Alice in Wonderland</td>\n",
              "      <td>6.4</td>\n",
              "      <td>Tim Burton</td>\n",
              "    </tr>\n",
              "    <tr>\n",
              "      <th>17</th>\n",
              "      <td>250000000</td>\n",
              "      <td>The Hobbit: An Unexpected Journey</td>\n",
              "      <td>2012-11-26</td>\n",
              "      <td>1.021104e+09</td>\n",
              "      <td>The Hobbit: An Unexpected Journey</td>\n",
              "      <td>7.0</td>\n",
              "      <td>Peter Jackson</td>\n",
              "    </tr>\n",
              "    <tr>\n",
              "      <th>18</th>\n",
              "      <td>185000000</td>\n",
              "      <td>The Dark Knight</td>\n",
              "      <td>2008-07-16</td>\n",
              "      <td>1.004558e+09</td>\n",
              "      <td>The Dark Knight</td>\n",
              "      <td>8.2</td>\n",
              "      <td>Christopher Nolan</td>\n",
              "    </tr>\n",
              "  </tbody>\n",
              "</table>\n",
              "</div>\n",
              "      <button class=\"colab-df-convert\" onclick=\"convertToInteractive('df-7383aaaf-3c56-405d-89f9-6a5db21adb53')\"\n",
              "              title=\"Convert this dataframe to an interactive table.\"\n",
              "              style=\"display:none;\">\n",
              "        \n",
              "  <svg xmlns=\"http://www.w3.org/2000/svg\" height=\"24px\"viewBox=\"0 0 24 24\"\n",
              "       width=\"24px\">\n",
              "    <path d=\"M0 0h24v24H0V0z\" fill=\"none\"/>\n",
              "    <path d=\"M18.56 5.44l.94 2.06.94-2.06 2.06-.94-2.06-.94-.94-2.06-.94 2.06-2.06.94zm-11 1L8.5 8.5l.94-2.06 2.06-.94-2.06-.94L8.5 2.5l-.94 2.06-2.06.94zm10 10l.94 2.06.94-2.06 2.06-.94-2.06-.94-.94-2.06-.94 2.06-2.06.94z\"/><path d=\"M17.41 7.96l-1.37-1.37c-.4-.4-.92-.59-1.43-.59-.52 0-1.04.2-1.43.59L10.3 9.45l-7.72 7.72c-.78.78-.78 2.05 0 2.83L4 21.41c.39.39.9.59 1.41.59.51 0 1.02-.2 1.41-.59l7.78-7.78 2.81-2.81c.8-.78.8-2.07 0-2.86zM5.41 20L4 18.59l7.72-7.72 1.47 1.35L5.41 20z\"/>\n",
              "  </svg>\n",
              "      </button>\n",
              "      \n",
              "  <style>\n",
              "    .colab-df-container {\n",
              "      display:flex;\n",
              "      flex-wrap:wrap;\n",
              "      gap: 12px;\n",
              "    }\n",
              "\n",
              "    .colab-df-convert {\n",
              "      background-color: #E8F0FE;\n",
              "      border: none;\n",
              "      border-radius: 50%;\n",
              "      cursor: pointer;\n",
              "      display: none;\n",
              "      fill: #1967D2;\n",
              "      height: 32px;\n",
              "      padding: 0 0 0 0;\n",
              "      width: 32px;\n",
              "    }\n",
              "\n",
              "    .colab-df-convert:hover {\n",
              "      background-color: #E2EBFA;\n",
              "      box-shadow: 0px 1px 2px rgba(60, 64, 67, 0.3), 0px 1px 3px 1px rgba(60, 64, 67, 0.15);\n",
              "      fill: #174EA6;\n",
              "    }\n",
              "\n",
              "    [theme=dark] .colab-df-convert {\n",
              "      background-color: #3B4455;\n",
              "      fill: #D2E3FC;\n",
              "    }\n",
              "\n",
              "    [theme=dark] .colab-df-convert:hover {\n",
              "      background-color: #434B5C;\n",
              "      box-shadow: 0px 1px 3px 1px rgba(0, 0, 0, 0.15);\n",
              "      filter: drop-shadow(0px 1px 2px rgba(0, 0, 0, 0.3));\n",
              "      fill: #FFFFFF;\n",
              "    }\n",
              "  </style>\n",
              "\n",
              "      <script>\n",
              "        const buttonEl =\n",
              "          document.querySelector('#df-7383aaaf-3c56-405d-89f9-6a5db21adb53 button.colab-df-convert');\n",
              "        buttonEl.style.display =\n",
              "          google.colab.kernel.accessAllowed ? 'block' : 'none';\n",
              "\n",
              "        async function convertToInteractive(key) {\n",
              "          const element = document.querySelector('#df-7383aaaf-3c56-405d-89f9-6a5db21adb53');\n",
              "          const dataTable =\n",
              "            await google.colab.kernel.invokeFunction('convertToInteractive',\n",
              "                                                     [key], {});\n",
              "          if (!dataTable) return;\n",
              "\n",
              "          const docLinkHtml = 'Like what you see? Visit the ' +\n",
              "            '<a target=\"_blank\" href=https://colab.research.google.com/notebooks/data_table.ipynb>data table notebook</a>'\n",
              "            + ' to learn more about interactive tables.';\n",
              "          element.innerHTML = '';\n",
              "          dataTable['output_type'] = 'display_data';\n",
              "          await google.colab.output.renderOutput(dataTable, element);\n",
              "          const docLink = document.createElement('div');\n",
              "          docLink.innerHTML = docLinkHtml;\n",
              "          element.appendChild(docLink);\n",
              "        }\n",
              "      </script>\n",
              "    </div>\n",
              "  </div>\n",
              "  "
            ]
          },
          "metadata": {},
          "execution_count": 31
        }
      ]
    },
    {
      "cell_type": "code",
      "source": [
        "# Filmes com as maiores notas\n",
        "movies.sort(col('vote_average').desc(), col('vote_count').desc())\\\n",
        "      .select('original_title', 'release_date', 'title', 'vote_average', 'vote_count', 'director')\\\n",
        "      .toPandas()\\\n",
        "      .head(10)"
      ],
      "metadata": {
        "colab": {
          "base_uri": "https://localhost:8080/",
          "height": 363
        },
        "id": "2XzL7K6ZQ4Jb",
        "outputId": "c8a592a8-ce36-47af-8f8f-3548913b5563"
      },
      "execution_count": 32,
      "outputs": [
        {
          "output_type": "execute_result",
          "data": {
            "text/plain": [
              "             original_title release_date                     title  \\\n",
              "0  The Shawshank Redemption   1994-09-23  The Shawshank Redemption   \n",
              "1             The Godfather   1972-03-14             The Godfather   \n",
              "2     The Prisoner of Zenda   1937-09-03     The Prisoner of Zenda   \n",
              "3                Fight Club   1999-10-15                Fight Club   \n",
              "4              Pulp Fiction   1994-10-08              Pulp Fiction   \n",
              "5          Schindler's List   1993-11-29          Schindler's List   \n",
              "6                  Whiplash   2014-10-10                  Whiplash   \n",
              "7                  千と千尋の神隠し   2001-07-20             Spirited Away   \n",
              "8    The Godfather: Part II   1974-12-20    The Godfather: Part II   \n",
              "9           The Dark Knight   2008-07-16           The Dark Knight   \n",
              "\n",
              "   vote_average  vote_count              director  \n",
              "0           8.5        8205        Frank Darabont  \n",
              "1           8.4        5893  Francis Ford Coppola  \n",
              "2           8.4          11         John Cromwell  \n",
              "3           8.3        9413         David Fincher  \n",
              "4           8.3        8428     Quentin Tarantino  \n",
              "5           8.3        4329      Steven Spielberg  \n",
              "6           8.3        4254       Damien Chazelle  \n",
              "7           8.3        3840        Hayao Miyazaki  \n",
              "8           8.3        3338  Francis Ford Coppola  \n",
              "9           8.2       12002     Christopher Nolan  "
            ],
            "text/html": [
              "\n",
              "  <div id=\"df-657a18f6-a951-4a37-b41d-2bee5a24f9f9\">\n",
              "    <div class=\"colab-df-container\">\n",
              "      <div>\n",
              "<style scoped>\n",
              "    .dataframe tbody tr th:only-of-type {\n",
              "        vertical-align: middle;\n",
              "    }\n",
              "\n",
              "    .dataframe tbody tr th {\n",
              "        vertical-align: top;\n",
              "    }\n",
              "\n",
              "    .dataframe thead th {\n",
              "        text-align: right;\n",
              "    }\n",
              "</style>\n",
              "<table border=\"1\" class=\"dataframe\">\n",
              "  <thead>\n",
              "    <tr style=\"text-align: right;\">\n",
              "      <th></th>\n",
              "      <th>original_title</th>\n",
              "      <th>release_date</th>\n",
              "      <th>title</th>\n",
              "      <th>vote_average</th>\n",
              "      <th>vote_count</th>\n",
              "      <th>director</th>\n",
              "    </tr>\n",
              "  </thead>\n",
              "  <tbody>\n",
              "    <tr>\n",
              "      <th>0</th>\n",
              "      <td>The Shawshank Redemption</td>\n",
              "      <td>1994-09-23</td>\n",
              "      <td>The Shawshank Redemption</td>\n",
              "      <td>8.5</td>\n",
              "      <td>8205</td>\n",
              "      <td>Frank Darabont</td>\n",
              "    </tr>\n",
              "    <tr>\n",
              "      <th>1</th>\n",
              "      <td>The Godfather</td>\n",
              "      <td>1972-03-14</td>\n",
              "      <td>The Godfather</td>\n",
              "      <td>8.4</td>\n",
              "      <td>5893</td>\n",
              "      <td>Francis Ford Coppola</td>\n",
              "    </tr>\n",
              "    <tr>\n",
              "      <th>2</th>\n",
              "      <td>The Prisoner of Zenda</td>\n",
              "      <td>1937-09-03</td>\n",
              "      <td>The Prisoner of Zenda</td>\n",
              "      <td>8.4</td>\n",
              "      <td>11</td>\n",
              "      <td>John Cromwell</td>\n",
              "    </tr>\n",
              "    <tr>\n",
              "      <th>3</th>\n",
              "      <td>Fight Club</td>\n",
              "      <td>1999-10-15</td>\n",
              "      <td>Fight Club</td>\n",
              "      <td>8.3</td>\n",
              "      <td>9413</td>\n",
              "      <td>David Fincher</td>\n",
              "    </tr>\n",
              "    <tr>\n",
              "      <th>4</th>\n",
              "      <td>Pulp Fiction</td>\n",
              "      <td>1994-10-08</td>\n",
              "      <td>Pulp Fiction</td>\n",
              "      <td>8.3</td>\n",
              "      <td>8428</td>\n",
              "      <td>Quentin Tarantino</td>\n",
              "    </tr>\n",
              "    <tr>\n",
              "      <th>5</th>\n",
              "      <td>Schindler's List</td>\n",
              "      <td>1993-11-29</td>\n",
              "      <td>Schindler's List</td>\n",
              "      <td>8.3</td>\n",
              "      <td>4329</td>\n",
              "      <td>Steven Spielberg</td>\n",
              "    </tr>\n",
              "    <tr>\n",
              "      <th>6</th>\n",
              "      <td>Whiplash</td>\n",
              "      <td>2014-10-10</td>\n",
              "      <td>Whiplash</td>\n",
              "      <td>8.3</td>\n",
              "      <td>4254</td>\n",
              "      <td>Damien Chazelle</td>\n",
              "    </tr>\n",
              "    <tr>\n",
              "      <th>7</th>\n",
              "      <td>千と千尋の神隠し</td>\n",
              "      <td>2001-07-20</td>\n",
              "      <td>Spirited Away</td>\n",
              "      <td>8.3</td>\n",
              "      <td>3840</td>\n",
              "      <td>Hayao Miyazaki</td>\n",
              "    </tr>\n",
              "    <tr>\n",
              "      <th>8</th>\n",
              "      <td>The Godfather: Part II</td>\n",
              "      <td>1974-12-20</td>\n",
              "      <td>The Godfather: Part II</td>\n",
              "      <td>8.3</td>\n",
              "      <td>3338</td>\n",
              "      <td>Francis Ford Coppola</td>\n",
              "    </tr>\n",
              "    <tr>\n",
              "      <th>9</th>\n",
              "      <td>The Dark Knight</td>\n",
              "      <td>2008-07-16</td>\n",
              "      <td>The Dark Knight</td>\n",
              "      <td>8.2</td>\n",
              "      <td>12002</td>\n",
              "      <td>Christopher Nolan</td>\n",
              "    </tr>\n",
              "  </tbody>\n",
              "</table>\n",
              "</div>\n",
              "      <button class=\"colab-df-convert\" onclick=\"convertToInteractive('df-657a18f6-a951-4a37-b41d-2bee5a24f9f9')\"\n",
              "              title=\"Convert this dataframe to an interactive table.\"\n",
              "              style=\"display:none;\">\n",
              "        \n",
              "  <svg xmlns=\"http://www.w3.org/2000/svg\" height=\"24px\"viewBox=\"0 0 24 24\"\n",
              "       width=\"24px\">\n",
              "    <path d=\"M0 0h24v24H0V0z\" fill=\"none\"/>\n",
              "    <path d=\"M18.56 5.44l.94 2.06.94-2.06 2.06-.94-2.06-.94-.94-2.06-.94 2.06-2.06.94zm-11 1L8.5 8.5l.94-2.06 2.06-.94-2.06-.94L8.5 2.5l-.94 2.06-2.06.94zm10 10l.94 2.06.94-2.06 2.06-.94-2.06-.94-.94-2.06-.94 2.06-2.06.94z\"/><path d=\"M17.41 7.96l-1.37-1.37c-.4-.4-.92-.59-1.43-.59-.52 0-1.04.2-1.43.59L10.3 9.45l-7.72 7.72c-.78.78-.78 2.05 0 2.83L4 21.41c.39.39.9.59 1.41.59.51 0 1.02-.2 1.41-.59l7.78-7.78 2.81-2.81c.8-.78.8-2.07 0-2.86zM5.41 20L4 18.59l7.72-7.72 1.47 1.35L5.41 20z\"/>\n",
              "  </svg>\n",
              "      </button>\n",
              "      \n",
              "  <style>\n",
              "    .colab-df-container {\n",
              "      display:flex;\n",
              "      flex-wrap:wrap;\n",
              "      gap: 12px;\n",
              "    }\n",
              "\n",
              "    .colab-df-convert {\n",
              "      background-color: #E8F0FE;\n",
              "      border: none;\n",
              "      border-radius: 50%;\n",
              "      cursor: pointer;\n",
              "      display: none;\n",
              "      fill: #1967D2;\n",
              "      height: 32px;\n",
              "      padding: 0 0 0 0;\n",
              "      width: 32px;\n",
              "    }\n",
              "\n",
              "    .colab-df-convert:hover {\n",
              "      background-color: #E2EBFA;\n",
              "      box-shadow: 0px 1px 2px rgba(60, 64, 67, 0.3), 0px 1px 3px 1px rgba(60, 64, 67, 0.15);\n",
              "      fill: #174EA6;\n",
              "    }\n",
              "\n",
              "    [theme=dark] .colab-df-convert {\n",
              "      background-color: #3B4455;\n",
              "      fill: #D2E3FC;\n",
              "    }\n",
              "\n",
              "    [theme=dark] .colab-df-convert:hover {\n",
              "      background-color: #434B5C;\n",
              "      box-shadow: 0px 1px 3px 1px rgba(0, 0, 0, 0.15);\n",
              "      filter: drop-shadow(0px 1px 2px rgba(0, 0, 0, 0.3));\n",
              "      fill: #FFFFFF;\n",
              "    }\n",
              "  </style>\n",
              "\n",
              "      <script>\n",
              "        const buttonEl =\n",
              "          document.querySelector('#df-657a18f6-a951-4a37-b41d-2bee5a24f9f9 button.colab-df-convert');\n",
              "        buttonEl.style.display =\n",
              "          google.colab.kernel.accessAllowed ? 'block' : 'none';\n",
              "\n",
              "        async function convertToInteractive(key) {\n",
              "          const element = document.querySelector('#df-657a18f6-a951-4a37-b41d-2bee5a24f9f9');\n",
              "          const dataTable =\n",
              "            await google.colab.kernel.invokeFunction('convertToInteractive',\n",
              "                                                     [key], {});\n",
              "          if (!dataTable) return;\n",
              "\n",
              "          const docLinkHtml = 'Like what you see? Visit the ' +\n",
              "            '<a target=\"_blank\" href=https://colab.research.google.com/notebooks/data_table.ipynb>data table notebook</a>'\n",
              "            + ' to learn more about interactive tables.';\n",
              "          element.innerHTML = '';\n",
              "          dataTable['output_type'] = 'display_data';\n",
              "          await google.colab.output.renderOutput(dataTable, element);\n",
              "          const docLink = document.createElement('div');\n",
              "          docLink.innerHTML = docLinkHtml;\n",
              "          element.appendChild(docLink);\n",
              "        }\n",
              "      </script>\n",
              "    </div>\n",
              "  </div>\n",
              "  "
            ]
          },
          "metadata": {},
          "execution_count": 32
        }
      ]
    },
    {
      "cell_type": "code",
      "source": [
        "# Filmes de língua não inglesa com as maiores notas\n",
        "print(movies.filter(movies.original_language != 'en').count())\n",
        "movies.filter(movies.original_language != 'en')\\\n",
        "      .sort(col('vote_average').desc())\\\n",
        "      .select('budget', 'original_language', 'original_title', 'release_date', 'runtime', 'title', 'vote_average')\\\n",
        "      .toPandas()\\\n",
        "      .head(10)"
      ],
      "metadata": {
        "colab": {
          "base_uri": "https://localhost:8080/",
          "height": 380
        },
        "id": "1O4SDAumRZCN",
        "outputId": "d0fb4661-09b4-45ae-8a57-ebeb2330dc4e"
      },
      "execution_count": 33,
      "outputs": [
        {
          "output_type": "stream",
          "name": "stdout",
          "text": [
            "171\n"
          ]
        },
        {
          "output_type": "execute_result",
          "data": {
            "text/plain": [
              "     budget original_language           original_title release_date  runtime  \\\n",
              "0  15000000                ja                 千と千尋の神隠し   2001-07-20    125.0   \n",
              "1  24000000                ja                  ハウルの動く城   2004-11-19    119.0   \n",
              "2  26500000                ja                    もののけ姫   1997-07-12    134.0   \n",
              "3   5000000                it  C'era una volta il West   1968-12-21    175.0   \n",
              "4   3300000                pt           Cidade de Deus   2002-02-05    130.0   \n",
              "5  92620000                de               Metropolis   1927-01-10    153.0   \n",
              "6   3000000                ko                     올드보이   2003-01-01    120.0   \n",
              "7  14000000                de                 Das Boot   1981-09-16    149.0   \n",
              "8         0                fr                  Polisse   2011-10-06    127.0   \n",
              "9   6800000                fr                Incendies   2010-09-04    130.0   \n",
              "\n",
              "                          title  vote_average  \n",
              "0                 Spirited Away           8.3  \n",
              "1          Howl's Moving Castle           8.2  \n",
              "2             Princess Mononoke           8.2  \n",
              "3  Once Upon a Time in the West           8.1  \n",
              "4                   City of God           8.1  \n",
              "5                    Metropolis           8.0  \n",
              "6                        Oldboy           8.0  \n",
              "7                      Das Boot           7.9  \n",
              "8                       Polisse           7.9  \n",
              "9                     Incendies           7.9  "
            ],
            "text/html": [
              "\n",
              "  <div id=\"df-7ac0b571-a08c-4baa-8731-0b75fc3f2eb8\">\n",
              "    <div class=\"colab-df-container\">\n",
              "      <div>\n",
              "<style scoped>\n",
              "    .dataframe tbody tr th:only-of-type {\n",
              "        vertical-align: middle;\n",
              "    }\n",
              "\n",
              "    .dataframe tbody tr th {\n",
              "        vertical-align: top;\n",
              "    }\n",
              "\n",
              "    .dataframe thead th {\n",
              "        text-align: right;\n",
              "    }\n",
              "</style>\n",
              "<table border=\"1\" class=\"dataframe\">\n",
              "  <thead>\n",
              "    <tr style=\"text-align: right;\">\n",
              "      <th></th>\n",
              "      <th>budget</th>\n",
              "      <th>original_language</th>\n",
              "      <th>original_title</th>\n",
              "      <th>release_date</th>\n",
              "      <th>runtime</th>\n",
              "      <th>title</th>\n",
              "      <th>vote_average</th>\n",
              "    </tr>\n",
              "  </thead>\n",
              "  <tbody>\n",
              "    <tr>\n",
              "      <th>0</th>\n",
              "      <td>15000000</td>\n",
              "      <td>ja</td>\n",
              "      <td>千と千尋の神隠し</td>\n",
              "      <td>2001-07-20</td>\n",
              "      <td>125.0</td>\n",
              "      <td>Spirited Away</td>\n",
              "      <td>8.3</td>\n",
              "    </tr>\n",
              "    <tr>\n",
              "      <th>1</th>\n",
              "      <td>24000000</td>\n",
              "      <td>ja</td>\n",
              "      <td>ハウルの動く城</td>\n",
              "      <td>2004-11-19</td>\n",
              "      <td>119.0</td>\n",
              "      <td>Howl's Moving Castle</td>\n",
              "      <td>8.2</td>\n",
              "    </tr>\n",
              "    <tr>\n",
              "      <th>2</th>\n",
              "      <td>26500000</td>\n",
              "      <td>ja</td>\n",
              "      <td>もののけ姫</td>\n",
              "      <td>1997-07-12</td>\n",
              "      <td>134.0</td>\n",
              "      <td>Princess Mononoke</td>\n",
              "      <td>8.2</td>\n",
              "    </tr>\n",
              "    <tr>\n",
              "      <th>3</th>\n",
              "      <td>5000000</td>\n",
              "      <td>it</td>\n",
              "      <td>C'era una volta il West</td>\n",
              "      <td>1968-12-21</td>\n",
              "      <td>175.0</td>\n",
              "      <td>Once Upon a Time in the West</td>\n",
              "      <td>8.1</td>\n",
              "    </tr>\n",
              "    <tr>\n",
              "      <th>4</th>\n",
              "      <td>3300000</td>\n",
              "      <td>pt</td>\n",
              "      <td>Cidade de Deus</td>\n",
              "      <td>2002-02-05</td>\n",
              "      <td>130.0</td>\n",
              "      <td>City of God</td>\n",
              "      <td>8.1</td>\n",
              "    </tr>\n",
              "    <tr>\n",
              "      <th>5</th>\n",
              "      <td>92620000</td>\n",
              "      <td>de</td>\n",
              "      <td>Metropolis</td>\n",
              "      <td>1927-01-10</td>\n",
              "      <td>153.0</td>\n",
              "      <td>Metropolis</td>\n",
              "      <td>8.0</td>\n",
              "    </tr>\n",
              "    <tr>\n",
              "      <th>6</th>\n",
              "      <td>3000000</td>\n",
              "      <td>ko</td>\n",
              "      <td>올드보이</td>\n",
              "      <td>2003-01-01</td>\n",
              "      <td>120.0</td>\n",
              "      <td>Oldboy</td>\n",
              "      <td>8.0</td>\n",
              "    </tr>\n",
              "    <tr>\n",
              "      <th>7</th>\n",
              "      <td>14000000</td>\n",
              "      <td>de</td>\n",
              "      <td>Das Boot</td>\n",
              "      <td>1981-09-16</td>\n",
              "      <td>149.0</td>\n",
              "      <td>Das Boot</td>\n",
              "      <td>7.9</td>\n",
              "    </tr>\n",
              "    <tr>\n",
              "      <th>8</th>\n",
              "      <td>0</td>\n",
              "      <td>fr</td>\n",
              "      <td>Polisse</td>\n",
              "      <td>2011-10-06</td>\n",
              "      <td>127.0</td>\n",
              "      <td>Polisse</td>\n",
              "      <td>7.9</td>\n",
              "    </tr>\n",
              "    <tr>\n",
              "      <th>9</th>\n",
              "      <td>6800000</td>\n",
              "      <td>fr</td>\n",
              "      <td>Incendies</td>\n",
              "      <td>2010-09-04</td>\n",
              "      <td>130.0</td>\n",
              "      <td>Incendies</td>\n",
              "      <td>7.9</td>\n",
              "    </tr>\n",
              "  </tbody>\n",
              "</table>\n",
              "</div>\n",
              "      <button class=\"colab-df-convert\" onclick=\"convertToInteractive('df-7ac0b571-a08c-4baa-8731-0b75fc3f2eb8')\"\n",
              "              title=\"Convert this dataframe to an interactive table.\"\n",
              "              style=\"display:none;\">\n",
              "        \n",
              "  <svg xmlns=\"http://www.w3.org/2000/svg\" height=\"24px\"viewBox=\"0 0 24 24\"\n",
              "       width=\"24px\">\n",
              "    <path d=\"M0 0h24v24H0V0z\" fill=\"none\"/>\n",
              "    <path d=\"M18.56 5.44l.94 2.06.94-2.06 2.06-.94-2.06-.94-.94-2.06-.94 2.06-2.06.94zm-11 1L8.5 8.5l.94-2.06 2.06-.94-2.06-.94L8.5 2.5l-.94 2.06-2.06.94zm10 10l.94 2.06.94-2.06 2.06-.94-2.06-.94-.94-2.06-.94 2.06-2.06.94z\"/><path d=\"M17.41 7.96l-1.37-1.37c-.4-.4-.92-.59-1.43-.59-.52 0-1.04.2-1.43.59L10.3 9.45l-7.72 7.72c-.78.78-.78 2.05 0 2.83L4 21.41c.39.39.9.59 1.41.59.51 0 1.02-.2 1.41-.59l7.78-7.78 2.81-2.81c.8-.78.8-2.07 0-2.86zM5.41 20L4 18.59l7.72-7.72 1.47 1.35L5.41 20z\"/>\n",
              "  </svg>\n",
              "      </button>\n",
              "      \n",
              "  <style>\n",
              "    .colab-df-container {\n",
              "      display:flex;\n",
              "      flex-wrap:wrap;\n",
              "      gap: 12px;\n",
              "    }\n",
              "\n",
              "    .colab-df-convert {\n",
              "      background-color: #E8F0FE;\n",
              "      border: none;\n",
              "      border-radius: 50%;\n",
              "      cursor: pointer;\n",
              "      display: none;\n",
              "      fill: #1967D2;\n",
              "      height: 32px;\n",
              "      padding: 0 0 0 0;\n",
              "      width: 32px;\n",
              "    }\n",
              "\n",
              "    .colab-df-convert:hover {\n",
              "      background-color: #E2EBFA;\n",
              "      box-shadow: 0px 1px 2px rgba(60, 64, 67, 0.3), 0px 1px 3px 1px rgba(60, 64, 67, 0.15);\n",
              "      fill: #174EA6;\n",
              "    }\n",
              "\n",
              "    [theme=dark] .colab-df-convert {\n",
              "      background-color: #3B4455;\n",
              "      fill: #D2E3FC;\n",
              "    }\n",
              "\n",
              "    [theme=dark] .colab-df-convert:hover {\n",
              "      background-color: #434B5C;\n",
              "      box-shadow: 0px 1px 3px 1px rgba(0, 0, 0, 0.15);\n",
              "      filter: drop-shadow(0px 1px 2px rgba(0, 0, 0, 0.3));\n",
              "      fill: #FFFFFF;\n",
              "    }\n",
              "  </style>\n",
              "\n",
              "      <script>\n",
              "        const buttonEl =\n",
              "          document.querySelector('#df-7ac0b571-a08c-4baa-8731-0b75fc3f2eb8 button.colab-df-convert');\n",
              "        buttonEl.style.display =\n",
              "          google.colab.kernel.accessAllowed ? 'block' : 'none';\n",
              "\n",
              "        async function convertToInteractive(key) {\n",
              "          const element = document.querySelector('#df-7ac0b571-a08c-4baa-8731-0b75fc3f2eb8');\n",
              "          const dataTable =\n",
              "            await google.colab.kernel.invokeFunction('convertToInteractive',\n",
              "                                                     [key], {});\n",
              "          if (!dataTable) return;\n",
              "\n",
              "          const docLinkHtml = 'Like what you see? Visit the ' +\n",
              "            '<a target=\"_blank\" href=https://colab.research.google.com/notebooks/data_table.ipynb>data table notebook</a>'\n",
              "            + ' to learn more about interactive tables.';\n",
              "          element.innerHTML = '';\n",
              "          dataTable['output_type'] = 'display_data';\n",
              "          await google.colab.output.renderOutput(dataTable, element);\n",
              "          const docLink = document.createElement('div');\n",
              "          docLink.innerHTML = docLinkHtml;\n",
              "          element.appendChild(docLink);\n",
              "        }\n",
              "      </script>\n",
              "    </div>\n",
              "  </div>\n",
              "  "
            ]
          },
          "metadata": {},
          "execution_count": 33
        }
      ]
    }
  ]
}